{
  "nbformat": 4,
  "nbformat_minor": 0,
  "metadata": {
    "colab": {
      "provenance": []
    },
    "kernelspec": {
      "name": "python3",
      "display_name": "Python 3"
    },
    "language_info": {
      "name": "python"
    }
  },
  "cells": [
    {
      "cell_type": "markdown",
      "source": [
        "# #. 비교 기반 정렬 알고리즘:\n",
        "- 선택 정렬\n",
        "- 삽입 정렬\n",
        "- 퀵 정렬"
      ],
      "metadata": {
        "id": "Z19L9ivdsecm"
      }
    },
    {
      "cell_type": "markdown",
      "source": [
        "# 1. Selection Sort"
      ],
      "metadata": {
        "id": "18c_2G-nwoS5"
      }
    },
    {
      "cell_type": "code",
      "source": [
        "#=========================================================\n",
        "# 코드 6.1: 선택 정렬 알고리즘(제자리 정렬 방식)\n",
        "\n",
        "\n",
        "\n"
      ],
      "metadata": {
        "id": "2e8f0X7hxtGR"
      },
      "execution_count": null,
      "outputs": []
    },
    {
      "cell_type": "code",
      "source": [
        "# 코드 6.2: 선택 정렬 테스트 프로그램\n",
        "print(\"\\n선택정렬 테스트\")\n",
        "data = [6,3,7,4,9,1,5,2,8]\n",
        "print(\"Original  :\", data)\n",
        "selection_sort(data)"
      ],
      "metadata": {
        "id": "sxNuDwPV2RXU"
      },
      "execution_count": null,
      "outputs": []
    },
    {
      "cell_type": "markdown",
      "source": [
        "###\n",
        "코드 수정\n",
        "\n",
        "\n"
      ],
      "metadata": {
        "id": "9wVNP3T43PHt"
      }
    },
    {
      "cell_type": "code",
      "source": [
        "# 정렬에 사용된 비교 연산 횟수와 교환 연산 횟수를 추적하기 위해 comparison_count와 swap_count 변수를 추가해 수정\n",
        "\n"
      ],
      "metadata": {
        "id": "Xp5Z4MFE15yb"
      },
      "execution_count": null,
      "outputs": []
    },
    {
      "cell_type": "code",
      "source": [
        "# 코드 6.2: 선택 정렬 테스트 프로그램\n",
        "print(\"\\n선택정렬 테스트\")\n",
        "data = [6,3,7,4,9,1,5,2,8]\n",
        "print(\"Original  :\", data)\n",
        "selection_sort_modify(data)\n"
      ],
      "metadata": {
        "id": "CjkU-L0nkcFE",
        "collapsed": true
      },
      "execution_count": null,
      "outputs": []
    },
    {
      "cell_type": "code",
      "source": [
        "# 예: selection sort가 안정적인 정렬 알고리즘이 아님\n",
        "# 테스트 예시: 중복 값이 있는 배열\n",
        "A = [(3, 'a'), (1, 'b'), (4, 'c'), (1, 'd'), (5, 'e'), (9, 'f'), (2, 'g'), (6, 'h'), (5, 'i'), (3, 'j')]\n",
        "\n"
      ],
      "metadata": {
        "id": "3UMx_xr--ICE"
      },
      "execution_count": null,
      "outputs": []
    },
    {
      "cell_type": "code",
      "source": [
        "# 0에서 100 사이의 랜덤 점수 10개를 생성하여 scores.txt 파일에 저장한 다음, 이 파일을 읽어와 정렬한 후 sorted_scores.txt 파일에 저장하는 코드\n",
        "\n",
        "\n",
        "\n",
        "def main():\n",
        "    input_filename = 'C://UsersWUser\\Downloads\\scores.txt'\n",
        "    output_filename = 'C://UsersWUser\\Downloads\\sorted_scores.txt'\n",
        "\n",
        "    # 랜덤 점수 생성 후 파일에 저장\n",
        "    generate_random_scores(input_filename)\n",
        "    print(\"Random scores generated and saved to\", input_filename)\n",
        "\n",
        "    # 점수 읽기\n",
        "    scores = read_scores(input_filename)\n",
        "    print(\"Before sorting:\", scores)\n",
        "\n",
        "    # 정렬 수행\n",
        "    selection_sort(scores)\n",
        "    print(\"After sorting:\", scores)\n",
        "\n",
        "    # 정렬된 점수 파일에 쓰기\n",
        "    write_scores(output_filename, scores)\n",
        "\n",
        "if __name__ == \"__main__\":\n",
        "    main()\n"
      ],
      "metadata": {
        "id": "eVAKdpPACvbu"
      },
      "execution_count": null,
      "outputs": []
    },
    {
      "cell_type": "markdown",
      "source": [
        "# 2. Insertion Sort"
      ],
      "metadata": {
        "id": "j8N7iE7j16sV"
      }
    },
    {
      "cell_type": "code",
      "source": [
        "#=========================================================\n",
        "# 코드 6.3: 삽입 정렬 알고리즘\n",
        "\n",
        "\n"
      ],
      "metadata": {
        "id": "coTpO5Q_2Ep8"
      },
      "execution_count": null,
      "outputs": []
    },
    {
      "cell_type": "code",
      "source": [
        "# 테스트 예시\n",
        "A = [31, 41, 59, 26, 41, 58]\n",
        "insertion_sort(A)"
      ],
      "metadata": {
        "colab": {
          "base_uri": "https://localhost:8080/"
        },
        "id": "dcFoD10_vydA",
        "outputId": "d96a3175-88a8-4899-f6d6-a883cdcc8142"
      },
      "execution_count": null,
      "outputs": [
        {
          "output_type": "stream",
          "name": "stdout",
          "text": [
            "  Step  2 = [31, 41, 59, 26, 41, 58]\n",
            "  Step  3 = [31, 41, 59, 26, 41, 58]\n",
            "  Step  4 = [26, 31, 41, 59, 41, 58]\n",
            "  Step  5 = [26, 31, 41, 41, 59, 58]\n",
            "  Step  6 = [26, 31, 41, 41, 58, 59]\n"
          ]
        }
      ]
    },
    {
      "cell_type": "markdown",
      "source": [
        "###\n",
        "코드 수정"
      ],
      "metadata": {
        "id": "uU_GHutEPgoU"
      }
    },
    {
      "cell_type": "code",
      "source": [
        "# 정렬에 사용된 비교 연산 횟수와 교환 연산 횟수를 추적하기 위해 comparison_count와 swap_count 변수를 추가해 수정\n"
      ],
      "metadata": {
        "id": "jW-9sgM5Pir7"
      },
      "execution_count": null,
      "outputs": []
    },
    {
      "cell_type": "code",
      "source": [
        "# 테스트 예시\n",
        "A = [31, 41, 59, 26, 41, 58]\n",
        "insertion_sort_modify(A)"
      ],
      "metadata": {
        "colab": {
          "base_uri": "https://localhost:8080/"
        },
        "id": "m57lNd1dwcgT",
        "outputId": "9176eacb-ab40-42f8-8930-157f7966ae5f"
      },
      "execution_count": null,
      "outputs": [
        {
          "output_type": "stream",
          "name": "stdout",
          "text": [
            "  Step  2 = [31, 41, 59, 26, 41, 58]\n",
            "  Step  3 = [31, 41, 59, 26, 41, 58]\n",
            "  Step  4 = [26, 31, 41, 59, 41, 58]\n",
            "  Step  5 = [26, 31, 41, 41, 59, 58]\n",
            "  Step  6 = [26, 31, 41, 41, 58, 59]\n",
            "Total comparisons: 9\n",
            "Total swaps: 5\n"
          ]
        }
      ]
    },
    {
      "cell_type": "markdown",
      "source": [
        "# 3. Quick Sort"
      ],
      "metadata": {
        "id": "BZwAPcY4xuW3"
      }
    },
    {
      "cell_type": "code",
      "source": [
        "#=========================================================\n",
        "# 코드 6.4: 퀵 정렬 알고리즘\n",
        "\n",
        "\n",
        "\n",
        "\n",
        "\n",
        "\n",
        "# 코드 6.5: 분할 알고리즘\n",
        "\n"
      ],
      "metadata": {
        "id": "hw49YNEqx5Lf"
      },
      "execution_count": null,
      "outputs": []
    },
    {
      "cell_type": "code",
      "source": [
        "# 테스트 프로그램\n",
        "data = [ 5, 3, 8, 4, 9, 1, 6, 2, 7]\t\t# 입력 리스트\n",
        "print(\"Original  : \", data)\n",
        "quick_sort(data, 0, len(data)-1)        # 퀵 정렬\n",
        "print(\"QuickSort : \", data)\n"
      ],
      "metadata": {
        "id": "4gwBR-suyPBW"
      },
      "execution_count": null,
      "outputs": []
    },
    {
      "cell_type": "markdown",
      "source": [
        "###\n",
        "코드 수정"
      ],
      "metadata": {
        "id": "JDtD26TobKpm"
      }
    },
    {
      "cell_type": "code",
      "source": [
        "# 퀵 정렬에 사용된 비교 연산 횟수와 교환 연산 횟수를 추적하기 위해 comparison_count와 swap_count 변수를 추가해 수정\n",
        "# 테스트 프로그램에서 랜덤 데이터를 생성하고 정렬을 테스트\n",
        "\n",
        "\n",
        "def main():\n",
        "    global comparison_count, swap_count\n",
        "\n",
        "    # 랜덤 데이터 생성\n",
        "    data = generate_random_data()\n",
        "    print(\"Original data:\", data)\n",
        "\n",
        "    # 비교 및 교환 연산 카운트 초기화\n",
        "    comparison_count = 0\n",
        "    swap_count = 0\n",
        "\n",
        "    # 퀵 정렬 수행\n",
        "    quick_sort(data, 0, len(data) - 1)\n",
        "    print(\"Sorted data:\", data)\n",
        "    print(f\"Total comparisons: {comparison_count}\")\n",
        "    print(f\"Total swaps: {swap_count}\")\n",
        "\n",
        "if __name__ == \"__main__\":\n",
        "    main()\n"
      ],
      "metadata": {
        "id": "eyGCHt4EbNae"
      },
      "execution_count": null,
      "outputs": []
    },
    {
      "cell_type": "code",
      "source": [
        "# 각 단계별로 정렬 과정을 출력하기 위해 quick_sort 함수와 partition 함수 내에서 단계별 리스트 상태를 출력하도록 수정\n",
        "# 또한, 각 단계에서 어느 부분을 정렬하고 있는지 확인\n",
        "\n",
        "\n",
        "def main():\n",
        "    global comparison_count, swap_count, step\n",
        "\n",
        "    # 랜덤 데이터 생성\n",
        "    #data = generate_random_data()\n",
        "    data= [62, 26, 19, 54, 26, 48, 80, 37, 87, 52]\n",
        "\n",
        "    print(\"Original data:\", data)\n",
        "\n",
        "    # 비교 및 교환 연산 카운트 초기화\n",
        "    comparison_count = 0\n",
        "    swap_count = 0\n",
        "    step = 1\n",
        "\n",
        "    # 퀵 정렬 수행\n",
        "    quick_sort(data, 0, len(data) - 1)\n",
        "    print(\"\\nSorted data:\", data)\n",
        "    print(f\"Total comparisons: {comparison_count}\")\n",
        "    print(f\"Total swaps: {swap_count}\")\n",
        "\n",
        "if __name__ == \"__main__\":\n",
        "    main()"
      ],
      "metadata": {
        "id": "6_vB5hbUb7DX"
      },
      "execution_count": null,
      "outputs": []
    },
    {
      "cell_type": "code",
      "source": [
        "# 퀵 정렬의 성능 최적화\n",
        "# median-of-three 기법을 사용하여 퀵 정렬의 피벗을 리스트의 첫 번째, 중간, 마지막 요소 중 중간값으로 선택하도록 퀵 정렬 알고리즘을 수정\n",
        "# 이 방법은 피벗을 리스트의 중앙값에 가깝게 선택함으로써 최악의 경우를 줄이고 성능을 향상\n",
        "import random\n",
        "\n",
        "# 비교와 교환 연산 횟수를 저장할 전역 변수\n",
        "comparison_count = 0\n",
        "swap_count = 0\n",
        "step = 1  # 단계별 출력에 사용할 변수\n",
        "\n",
        "# left, mid, right 위치의 값 중 중간값을 left에 위치시키고, 이 값을 피벗으로 반환\n",
        "# 세 값 A[left], A[mid], A[right]를 비교하여 가운데 값이 A[mid]에 오도록 정렬\n",
        "def median_of_three(A, left, right):\n",
        "    mid = (left + right) // 2\n",
        "    # 세 값 중 중간값을 선택하기 위해 위치를 정렬\n",
        "    if A[left] > A[mid]:\n",
        "        A[left], A[mid] = A[mid], A[left] #A[left]는 세 값 중 가장 작은 값이\n",
        "    if A[left] > A[right]:\n",
        "        A[left], A[right] = A[right], A[left] #A[right]가 가장 큰 값이 되고, A[left]는 여전히 최소값을 유지\n",
        "    if A[mid] > A[right]:\n",
        "        A[mid], A[right] = A[right], A[mid] # [mid]가 A[right] 이하가 되도록 합니다. 이로써 A[mid]는 세 값 중 중간값이 되고, A[right]는 가장 큰 값\n",
        "    # 중간값으로 선택한 피벗을 리스트의 첫 번째 위치로 이동\n",
        "    A[left], A[mid] = A[mid], A[left]\n",
        "    return A[left]  # 피벗 값 반환\n",
        "\n",
        "\n",
        "\n",
        "def main():\n",
        "    global comparison_count, swap_count, step\n",
        "\n",
        "    # 랜덤 데이터 생성\n",
        "    #data = generate_random_data()\n",
        "    data = [62, 26, 19, 54, 26, 48, 80, 37, 87, 52]\n",
        "    print(\"Original data:\", data)\n",
        "\n",
        "    # 비교 및 교환 연산 카운트 초기화\n",
        "    comparison_count = 0\n",
        "    swap_count = 0\n",
        "    step = 1\n",
        "\n",
        "    # 퀵 정렬 수행\n",
        "    quick_sort(data, 0, len(data) - 1)\n",
        "    print(\"\\nSorted data:\", data)\n",
        "    print(f\"Total comparisons: {comparison_count}\")\n",
        "    print(f\"Total swaps: {swap_count}\")\n",
        "\n",
        "if __name__ == \"__main__\":\n",
        "    main()\n"
      ],
      "metadata": {
        "id": "Akd6ygy1tpH9"
      },
      "execution_count": null,
      "outputs": []
    },
    {
      "cell_type": "markdown",
      "source": [
        "# #. 비 비교 기반 정렬 알고리즘\n",
        "- 기수 정렬 : 배분 기반 정렬\n",
        "- 계수 정렬 : 빈도 기반 정렬"
      ],
      "metadata": {
        "id": "ag_Ynuw_swSv"
      }
    },
    {
      "cell_type": "markdown",
      "source": [
        "# 1. radix sort"
      ],
      "metadata": {
        "id": "mOI-fMiTVr0c"
      }
    },
    {
      "cell_type": "markdown",
      "source": [
        "###\n",
        "코드 수정"
      ],
      "metadata": {
        "id": "orMsLv2e9c41"
      }
    },
    {
      "cell_type": "code",
      "source": [
        "# 각 단계별 정렬 과정을 출력하기 위해 radix_sort 함수에서 각 자릿수별로 원형 큐에 데이터를 넣고,\n",
        "# 배열로 값을 다시 꺼낼 때 배열 상태를 출력하도록 수정\n",
        "# 원형 큐 아용\n",
        "class ArrayQueue:\n",
        "    def __init__(self, capacity = 10):\n",
        "        self.capacity = capacity\n",
        "        self.array = [None] * capacity\n",
        "        self.front = 0\n",
        "        self.rear = 0\n",
        "\n",
        "    def is_empty(self):\n",
        "        return self.front == self.rear\n",
        "\n",
        "    def is_full(self):\n",
        "        return self.front == (self.rear + 1) % self.capacity\n",
        "\n",
        "    def enqueue(self,item):\n",
        "        if not self.is_full():\n",
        "            self.rear = (self.rear + 1) % self.capacity\n",
        "            self.array[self.rear] = item\n",
        "        else:\n",
        "            print(\"Queue is full. Cannot enqueue.\")\n",
        "\n",
        "    def dequeue(self):\n",
        "        if not self.is_empty():\n",
        "            self.front = (self.front + 1) % self.capacity\n",
        "            item = self.array[self.front]\n",
        "            self.array[self.front] = None # 삭제된 자리 초기화\n",
        "            return item\n",
        "        else:\n",
        "          print(\"Queue is empty. Cannot dequeue.\")\n",
        "          return None\n",
        "\n",
        "# 기수 정렬 함수\n",
        "\n",
        "\n",
        "\n",
        "\n",
        "\n",
        "\n",
        "\n",
        "\n",
        "\n",
        "\n",
        "\n",
        "\n",
        "\n",
        "# 사용 예시\n",
        "A = [170, 45, 75, 90, 802, 24, 2, 66]\n",
        "radix_sort(A)\n"
      ],
      "metadata": {
        "id": "c8c2z_IeyDaY"
      },
      "execution_count": null,
      "outputs": []
    },
    {
      "cell_type": "markdown",
      "source": [
        "# 2. 계수 정렬(Counting Sort)"
      ],
      "metadata": {
        "id": "y8_VopqiXvOV"
      }
    },
    {
      "cell_type": "markdown",
      "source": [
        "###\n",
        "코드 수정"
      ],
      "metadata": {
        "id": "TffJX49E-1qv"
      }
    },
    {
      "cell_type": "code",
      "source": [
        "# 각 단계별로 정렬 과정을 출력하도록 counting_sort 함수에서 특정 작업을 수행할 때마다 배열의 상태를 출력하도록 수정\n",
        "# 특히, 빈도 계산, 누적합 계산, 그리고 정렬된 배열을 구축하는 단계를 출력\n",
        "\n",
        "\n",
        "\n",
        "\n",
        "\n",
        "\n",
        "\n",
        "# 사용 예시\n",
        "arr = [4, 2, 2, 8, 3, 3, 1]\n",
        "sorted_arr = counting_sort(arr)\n",
        "print(\"\\n정렬된 배열:\", sorted_arr)\n"
      ],
      "metadata": {
        "id": "etB5RN16a3Ve"
      },
      "execution_count": null,
      "outputs": []
    },
    {
      "cell_type": "markdown",
      "source": [
        "# #. 정렬 알고리즘을 이용한 프로그래밍 과제\n",
        "- 과제 주제: 학생 성적 관리 시스템\n",
        "    - 학생 성적 데이터가 주어졌을 때, 다양한 정렬 알고리즘을 활용해 데이터를 정렬하고 분석하는 프로그램을 작성하세요.\n",
        "    - 이 과제를 통해 정렬 알고리즘의 원리를 이해하고, 실제 데이터에 적용하는 방법을 익히게 됩니다.\n",
        "- 과제 요구사항\n",
        "  - 학생 정보 생성 및 저장:\n",
        "    - 30명의 학생 정보를 무작위로 생성하세요. 각 학생의 정보는 다음과 같습니다:\n",
        "      - 이름: 알파벳 대문자 두 글자 (예: AB, CD)\n",
        "      - 나이: 18 ~ 22 사이의 정수\n",
        "      - 성적: 0 ~ 100 사이의 정수\n",
        "      - 생성된 학생 정보를 리스트에 저장하세요. 각 학생의 정보는 딕셔너리 형태({\"이름\": \"AB\", \"나이\": 19, \"성적\": 85})로 저장합니다.\n",
        "\n",
        "  - 정렬 기능 구현:\n",
        "    - 다음 네 가지 정렬 알고리즘을 구현하세요.\n",
        "      - 선택 정렬, 삽입 정렬, 퀵 정렬\n",
        "      - 기수 정렬 (성적 기준으로 정렬할 때만 사용 가능)\n",
        "    - 각 정렬 알고리즘은 특정 필드를 기준으로 학생 리스트를 정렬할 수 있어야 합니다:\n",
        "      - 이름 (알파벳 순서)\n",
        "      - 나이 (오름차순)\n",
        "      - 성적 (오름차순)\n",
        "  \n",
        "  - 메뉴 및 사용자 입력:\n",
        "    - 프로그램 시작 시, 사용자에게 다음 메뉴를 제공합니다:\n",
        "      - 이름을 기준으로 정렬\n",
        "      - 나이를 기준으로 정렬\n",
        "      - 성적을 기준으로 정렬\n",
        "      - 프로그램 종료\n",
        "    - 사용자 입력에 따라 정렬 기준과 정렬 알고리즘을 선택하도록 합니다.\n",
        "    - 정렬된 결과를 화면에 출력하세요.\n",
        "\n",
        "  - 단계별 출력 (선택 사항):\n",
        "    - 선택한 정렬 알고리즘의 정렬 과정을 단계별로 출력하는 기능을 구현합니다.\n",
        "      - 예를 들어, 선택 정렬의 경우 각 단계마다 리스트 상태를 출력하여 정렬 과정이 어떻게 진행되는지 보여줍니다.\n",
        "\n",
        "- 제출물\n",
        "    - 코드: 파이썬 파일로 정렬 프로그램의 전체 코드 제출.\n",
        "    - README: 코드 구조, 실행 방법, 각 정렬 알고리즘의 시간 복잡도를 설명하는 문서 제출.\n",
        "    - 시간 복잡도 분석: 각 정렬 알고리즘의 평균 수행 시간을 측정하고, 정렬할 학생 데이터 크기가 증가할 때 성능 변화를 그래프로 표현하세요.\n",
        "    - 단계별 출력 기능: 각 정렬 알고리즘의 단계별 리스트 변화를 출력하여 알고리즘의 동작 방식을 시각적으로 확인하세요."
      ],
      "metadata": {
        "id": "Lc9hciKleOJ1"
      }
    },
    {
      "cell_type": "code",
      "source": [],
      "metadata": {
        "id": "mcCVjuAXftuG"
      },
      "execution_count": null,
      "outputs": []
    }
  ]
}